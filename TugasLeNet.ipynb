{
  "nbformat": 4,
  "nbformat_minor": 0,
  "metadata": {
    "colab": {
      "name": "TugasLeNet.ipynb",
      "provenance": []
    },
    "kernelspec": {
      "name": "python3",
      "display_name": "Python 3"
    }
  },
  "cells": [
    {
      "cell_type": "code",
      "metadata": {
        "id": "rRkF7mTIcENU",
        "colab_type": "code",
        "colab": {}
      },
      "source": [
        "from keras.models import Sequential\n",
        "from keras.layers import Conv2D, MaxPooling2D, Flatten, Dropout, Dense, Activation\n",
        "from keras.datasets import mnist\n",
        "from keras import backend as k\n",
        "from keras.utils import np_utils\n",
        "import numpy as np\n",
        "import matplotlib.pyplot as plt"
      ],
      "execution_count": 0,
      "outputs": []
    },
    {
      "cell_type": "code",
      "metadata": {
        "id": "KXIlo00FcV4m",
        "colab_type": "code",
        "colab": {}
      },
      "source": [
        "#Mendefinisikan LeNet Model\n",
        "class LeNet:\n",
        "    @staticmethod\n",
        "    def build(input_shape, classes):\n",
        "        # Menentukan model yang akan digunakan\n",
        "        model = Sequential()\n",
        "        # Menambahkan Layers\n",
        "        model.add(Conv2D(20, kernel_size=5, activation='relu', padding='same', input_shape=input_shape))\n",
        "        model.add(MaxPooling2D(pool_size=(2,2), strides=(2,2)))\n",
        "        model.add(Conv2D(50, kernel_size=5, border_mode='same', activation='relu'))\n",
        "        model.add(MaxPooling2D(pool_size=(2,2), strides=(2,2)))\n",
        "        model.add(Flatten())\n",
        "        model.add(Dense(500, activation='relu'))\n",
        "        model.add(Dense(classes, activation='softmax'))\n",
        "        return model"
      ],
      "execution_count": 0,
      "outputs": []
    },
    {
      "cell_type": "code",
      "metadata": {
        "id": "KqHGZY_9caUr",
        "colab_type": "code",
        "colab": {}
      },
      "source": [
        "# Hyperparameter\n",
        "BATCH_SIZE=128\n",
        "EPOCHS = 50\n",
        "IP_SHAPE = (1, 28, 28)\n",
        "k.common.image_dim_ordering()\n",
        "k.common.set_image_dim_ordering('th')"
      ],
      "execution_count": 0,
      "outputs": []
    },
    {
      "cell_type": "code",
      "metadata": {
        "id": "wSFFNonPcfWE",
        "colab_type": "code",
        "colab": {
          "base_uri": "https://localhost:8080/",
          "height": 54
        },
        "outputId": "47fd4371-66f6-4895-ee7a-3e15086e6c31"
      },
      "source": [
        "# Loading dan preprocessing dataset\n",
        "(X_train, y_train), (X_test, y_test) = mnist.load_data()\n",
        "X_train = X_train.astype('float32')\n",
        "X_test = X_test.astype('float32')\n",
        "X_train /= 255\n",
        "X_test /= 255\n",
        "X_train = X_train[:, np.newaxis, :, :]\n",
        "X_test = X_test[:, np.newaxis, :, :]\n",
        "y_train = np_utils.to_categorical(y_train, 10)\n",
        "y_test = np_utils.to_categorical(y_test, 10)"
      ],
      "execution_count": 26,
      "outputs": [
        {
          "output_type": "stream",
          "text": [
            "Downloading data from https://s3.amazonaws.com/img-datasets/mnist.npz\n",
            "11493376/11490434 [==============================] - 2s 0us/step\n"
          ],
          "name": "stdout"
        }
      ]
    },
    {
      "cell_type": "code",
      "metadata": {
        "id": "_fJ9I_EridOv",
        "colab_type": "code",
        "colab": {
          "base_uri": "https://localhost:8080/",
          "height": 1000
        },
        "outputId": "e409312b-8053-44cf-fec5-56b7e7aeed4e"
      },
      "source": [
        "# Membuat Model\n",
        "model = LeNet.build(input_shape=IP_SHAPE, classes=10)\n",
        "model.compile(loss='categorical_crossentropy', optimizer='adam', metrics=['accuracy'])\n",
        "history=model.fit(X_train, y_train, batch_size=BATCH_SIZE, epochs=EPOCHS, verbose=True, validation_split=0.25)\n",
        "score=model.evaluate(X_test, y_test, verbose=True)\n",
        "print(\"Test Score : \", score[0])\n",
        "print(\"Test Accuracy : \", score[1])\n",
        "print(history.history.keys())"
      ],
      "execution_count": 27,
      "outputs": [
        {
          "output_type": "stream",
          "text": [
            "WARNING:tensorflow:From /usr/local/lib/python3.6/dist-packages/keras/backend/tensorflow_backend.py:66: The name tf.get_default_graph is deprecated. Please use tf.compat.v1.get_default_graph instead.\n",
            "\n",
            "WARNING:tensorflow:From /usr/local/lib/python3.6/dist-packages/keras/backend/tensorflow_backend.py:541: The name tf.placeholder is deprecated. Please use tf.compat.v1.placeholder instead.\n",
            "\n",
            "WARNING:tensorflow:From /usr/local/lib/python3.6/dist-packages/keras/backend/tensorflow_backend.py:4432: The name tf.random_uniform is deprecated. Please use tf.random.uniform instead.\n",
            "\n",
            "WARNING:tensorflow:From /usr/local/lib/python3.6/dist-packages/keras/backend/tensorflow_backend.py:190: The name tf.get_default_session is deprecated. Please use tf.compat.v1.get_default_session instead.\n",
            "\n",
            "WARNING:tensorflow:From /usr/local/lib/python3.6/dist-packages/keras/backend/tensorflow_backend.py:197: The name tf.ConfigProto is deprecated. Please use tf.compat.v1.ConfigProto instead.\n",
            "\n",
            "WARNING:tensorflow:From /usr/local/lib/python3.6/dist-packages/keras/backend/tensorflow_backend.py:203: The name tf.Session is deprecated. Please use tf.compat.v1.Session instead.\n",
            "\n",
            "WARNING:tensorflow:From /usr/local/lib/python3.6/dist-packages/keras/backend/tensorflow_backend.py:207: The name tf.global_variables is deprecated. Please use tf.compat.v1.global_variables instead.\n",
            "\n",
            "WARNING:tensorflow:From /usr/local/lib/python3.6/dist-packages/keras/backend/tensorflow_backend.py:216: The name tf.is_variable_initialized is deprecated. Please use tf.compat.v1.is_variable_initialized instead.\n",
            "\n",
            "WARNING:tensorflow:From /usr/local/lib/python3.6/dist-packages/keras/backend/tensorflow_backend.py:223: The name tf.variables_initializer is deprecated. Please use tf.compat.v1.variables_initializer instead.\n",
            "\n",
            "WARNING:tensorflow:From /usr/local/lib/python3.6/dist-packages/keras/backend/tensorflow_backend.py:4267: The name tf.nn.max_pool is deprecated. Please use tf.nn.max_pool2d instead.\n",
            "\n",
            "WARNING:tensorflow:From /usr/local/lib/python3.6/dist-packages/keras/optimizers.py:793: The name tf.train.Optimizer is deprecated. Please use tf.compat.v1.train.Optimizer instead.\n",
            "\n",
            "WARNING:tensorflow:From /usr/local/lib/python3.6/dist-packages/keras/backend/tensorflow_backend.py:3576: The name tf.log is deprecated. Please use tf.math.log instead.\n",
            "\n"
          ],
          "name": "stdout"
        },
        {
          "output_type": "stream",
          "text": [
            "/usr/local/lib/python3.6/dist-packages/ipykernel_launcher.py:9: UserWarning: Update your `Conv2D` call to the Keras 2 API: `Conv2D(50, kernel_size=5, activation=\"relu\", padding=\"same\")`\n",
            "  if __name__ == '__main__':\n"
          ],
          "name": "stderr"
        },
        {
          "output_type": "stream",
          "text": [
            "WARNING:tensorflow:From /usr/local/lib/python3.6/dist-packages/tensorflow_core/python/ops/math_grad.py:1424: where (from tensorflow.python.ops.array_ops) is deprecated and will be removed in a future version.\n",
            "Instructions for updating:\n",
            "Use tf.where in 2.0, which has the same broadcast rule as np.where\n",
            "WARNING:tensorflow:From /usr/local/lib/python3.6/dist-packages/keras/backend/tensorflow_backend.py:1033: The name tf.assign_add is deprecated. Please use tf.compat.v1.assign_add instead.\n",
            "\n",
            "WARNING:tensorflow:From /usr/local/lib/python3.6/dist-packages/keras/backend/tensorflow_backend.py:1020: The name tf.assign is deprecated. Please use tf.compat.v1.assign instead.\n",
            "\n",
            "Train on 45000 samples, validate on 15000 samples\n",
            "Epoch 1/50\n",
            "45000/45000 [==============================] - 108s 2ms/step - loss: 0.1965 - acc: 0.9398 - val_loss: 0.0688 - val_acc: 0.9790\n",
            "Epoch 2/50\n",
            "45000/45000 [==============================] - 107s 2ms/step - loss: 0.0533 - acc: 0.9827 - val_loss: 0.0541 - val_acc: 0.9839\n",
            "Epoch 3/50\n",
            "45000/45000 [==============================] - 108s 2ms/step - loss: 0.0345 - acc: 0.9890 - val_loss: 0.0434 - val_acc: 0.9867\n",
            "Epoch 4/50\n",
            "45000/45000 [==============================] - 107s 2ms/step - loss: 0.0251 - acc: 0.9922 - val_loss: 0.0453 - val_acc: 0.9853\n",
            "Epoch 5/50\n",
            "45000/45000 [==============================] - 107s 2ms/step - loss: 0.0173 - acc: 0.9945 - val_loss: 0.0491 - val_acc: 0.9857\n",
            "Epoch 6/50\n",
            "45000/45000 [==============================] - 108s 2ms/step - loss: 0.0141 - acc: 0.9954 - val_loss: 0.0475 - val_acc: 0.9873\n",
            "Epoch 7/50\n",
            "45000/45000 [==============================] - 106s 2ms/step - loss: 0.0118 - acc: 0.9963 - val_loss: 0.0452 - val_acc: 0.9882\n",
            "Epoch 8/50\n",
            "45000/45000 [==============================] - 107s 2ms/step - loss: 0.0115 - acc: 0.9964 - val_loss: 0.0469 - val_acc: 0.9871\n",
            "Epoch 9/50\n",
            "45000/45000 [==============================] - 109s 2ms/step - loss: 0.0079 - acc: 0.9972 - val_loss: 0.0570 - val_acc: 0.9853\n",
            "Epoch 10/50\n",
            "45000/45000 [==============================] - 107s 2ms/step - loss: 0.0087 - acc: 0.9972 - val_loss: 0.0419 - val_acc: 0.9887\n",
            "Epoch 11/50\n",
            "45000/45000 [==============================] - 108s 2ms/step - loss: 0.0048 - acc: 0.9983 - val_loss: 0.0467 - val_acc: 0.9897\n",
            "Epoch 12/50\n",
            "45000/45000 [==============================] - 108s 2ms/step - loss: 0.0066 - acc: 0.9977 - val_loss: 0.0520 - val_acc: 0.9877\n",
            "Epoch 13/50\n",
            "45000/45000 [==============================] - 107s 2ms/step - loss: 0.0061 - acc: 0.9978 - val_loss: 0.0448 - val_acc: 0.9892\n",
            "Epoch 14/50\n",
            "45000/45000 [==============================] - 108s 2ms/step - loss: 0.0048 - acc: 0.9984 - val_loss: 0.0442 - val_acc: 0.9895\n",
            "Epoch 15/50\n",
            "45000/45000 [==============================] - 108s 2ms/step - loss: 0.0026 - acc: 0.9992 - val_loss: 0.0419 - val_acc: 0.9906\n",
            "Epoch 16/50\n",
            "45000/45000 [==============================] - 107s 2ms/step - loss: 0.0058 - acc: 0.9980 - val_loss: 0.0538 - val_acc: 0.9884\n",
            "Epoch 17/50\n",
            "45000/45000 [==============================] - 107s 2ms/step - loss: 0.0056 - acc: 0.9982 - val_loss: 0.0674 - val_acc: 0.9865\n",
            "Epoch 18/50\n",
            "45000/45000 [==============================] - 107s 2ms/step - loss: 0.0046 - acc: 0.9984 - val_loss: 0.0555 - val_acc: 0.9895\n",
            "Epoch 19/50\n",
            "45000/45000 [==============================] - 107s 2ms/step - loss: 0.0053 - acc: 0.9983 - val_loss: 0.0557 - val_acc: 0.9885\n",
            "Epoch 20/50\n",
            "45000/45000 [==============================] - 108s 2ms/step - loss: 0.0023 - acc: 0.9992 - val_loss: 0.0474 - val_acc: 0.9911\n",
            "Epoch 21/50\n",
            "45000/45000 [==============================] - 108s 2ms/step - loss: 0.0021 - acc: 0.9993 - val_loss: 0.0468 - val_acc: 0.9912\n",
            "Epoch 22/50\n",
            "45000/45000 [==============================] - 107s 2ms/step - loss: 7.8353e-04 - acc: 0.9997 - val_loss: 0.0460 - val_acc: 0.9913\n",
            "Epoch 23/50\n",
            "45000/45000 [==============================] - 108s 2ms/step - loss: 0.0031 - acc: 0.9990 - val_loss: 0.0563 - val_acc: 0.9878\n",
            "Epoch 24/50\n",
            "45000/45000 [==============================] - 108s 2ms/step - loss: 0.0072 - acc: 0.9977 - val_loss: 0.0778 - val_acc: 0.9862\n",
            "Epoch 25/50\n",
            "45000/45000 [==============================] - 108s 2ms/step - loss: 0.0048 - acc: 0.9985 - val_loss: 0.0553 - val_acc: 0.9899\n",
            "Epoch 26/50\n",
            "45000/45000 [==============================] - 107s 2ms/step - loss: 0.0029 - acc: 0.9989 - val_loss: 0.0574 - val_acc: 0.9899\n",
            "Epoch 27/50\n",
            "45000/45000 [==============================] - 107s 2ms/step - loss: 0.0027 - acc: 0.9991 - val_loss: 0.0496 - val_acc: 0.9904\n",
            "Epoch 28/50\n",
            "45000/45000 [==============================] - 107s 2ms/step - loss: 0.0012 - acc: 0.9997 - val_loss: 0.0544 - val_acc: 0.9901\n",
            "Epoch 29/50\n",
            "45000/45000 [==============================] - 108s 2ms/step - loss: 0.0036 - acc: 0.9987 - val_loss: 0.0601 - val_acc: 0.9893\n",
            "Epoch 30/50\n",
            "45000/45000 [==============================] - 107s 2ms/step - loss: 0.0037 - acc: 0.9988 - val_loss: 0.0557 - val_acc: 0.9900\n",
            "Epoch 31/50\n",
            "45000/45000 [==============================] - 106s 2ms/step - loss: 0.0032 - acc: 0.9989 - val_loss: 0.0599 - val_acc: 0.9903\n",
            "Epoch 32/50\n",
            "45000/45000 [==============================] - 108s 2ms/step - loss: 0.0030 - acc: 0.9992 - val_loss: 0.0456 - val_acc: 0.9912\n",
            "Epoch 33/50\n",
            "45000/45000 [==============================] - 107s 2ms/step - loss: 3.1636e-04 - acc: 0.9999 - val_loss: 0.0571 - val_acc: 0.9902\n",
            "Epoch 34/50\n",
            "45000/45000 [==============================] - 107s 2ms/step - loss: 8.3141e-05 - acc: 1.0000 - val_loss: 0.0481 - val_acc: 0.9917\n",
            "Epoch 35/50\n",
            "45000/45000 [==============================] - 108s 2ms/step - loss: 8.1152e-06 - acc: 1.0000 - val_loss: 0.0480 - val_acc: 0.9918\n",
            "Epoch 36/50\n",
            "45000/45000 [==============================] - 108s 2ms/step - loss: 5.2034e-06 - acc: 1.0000 - val_loss: 0.0480 - val_acc: 0.9918\n",
            "Epoch 37/50\n",
            "45000/45000 [==============================] - 107s 2ms/step - loss: 4.0635e-06 - acc: 1.0000 - val_loss: 0.0481 - val_acc: 0.9919\n",
            "Epoch 38/50\n",
            "45000/45000 [==============================] - 108s 2ms/step - loss: 3.3149e-06 - acc: 1.0000 - val_loss: 0.0482 - val_acc: 0.9920\n",
            "Epoch 39/50\n",
            "45000/45000 [==============================] - 107s 2ms/step - loss: 2.7394e-06 - acc: 1.0000 - val_loss: 0.0484 - val_acc: 0.9920\n",
            "Epoch 40/50\n",
            "45000/45000 [==============================] - 107s 2ms/step - loss: 2.2719e-06 - acc: 1.0000 - val_loss: 0.0485 - val_acc: 0.9921\n",
            "Epoch 41/50\n",
            "45000/45000 [==============================] - 108s 2ms/step - loss: 1.9171e-06 - acc: 1.0000 - val_loss: 0.0487 - val_acc: 0.9921\n",
            "Epoch 42/50\n",
            "45000/45000 [==============================] - 107s 2ms/step - loss: 1.6006e-06 - acc: 1.0000 - val_loss: 0.0489 - val_acc: 0.9921\n",
            "Epoch 43/50\n",
            "45000/45000 [==============================] - 107s 2ms/step - loss: 1.3489e-06 - acc: 1.0000 - val_loss: 0.0492 - val_acc: 0.9921\n",
            "Epoch 44/50\n",
            "45000/45000 [==============================] - 109s 2ms/step - loss: 1.1436e-06 - acc: 1.0000 - val_loss: 0.0495 - val_acc: 0.9922\n",
            "Epoch 45/50\n",
            "45000/45000 [==============================] - 107s 2ms/step - loss: 9.7818e-07 - acc: 1.0000 - val_loss: 0.0498 - val_acc: 0.9923\n",
            "Epoch 46/50\n",
            "45000/45000 [==============================] - 108s 2ms/step - loss: 8.3569e-07 - acc: 1.0000 - val_loss: 0.0500 - val_acc: 0.9922\n",
            "Epoch 47/50\n",
            "45000/45000 [==============================] - 108s 2ms/step - loss: 7.1919e-07 - acc: 1.0000 - val_loss: 0.0502 - val_acc: 0.9923\n",
            "Epoch 48/50\n",
            "45000/45000 [==============================] - 107s 2ms/step - loss: 6.1850e-07 - acc: 1.0000 - val_loss: 0.0506 - val_acc: 0.9925\n",
            "Epoch 49/50\n",
            "45000/45000 [==============================] - 108s 2ms/step - loss: 5.3985e-07 - acc: 1.0000 - val_loss: 0.0508 - val_acc: 0.9925\n",
            "Epoch 50/50\n",
            "45000/45000 [==============================] - 107s 2ms/step - loss: 4.7029e-07 - acc: 1.0000 - val_loss: 0.0511 - val_acc: 0.9925\n",
            "10000/10000 [==============================] - 8s 792us/step\n",
            "Test Score :  0.03444378483099644\n",
            "Test Accuracy :  0.9943\n",
            "dict_keys(['val_loss', 'val_acc', 'loss', 'acc'])\n"
          ],
          "name": "stdout"
        }
      ]
    },
    {
      "cell_type": "code",
      "metadata": {
        "id": "rLiY-IWqF-yZ",
        "colab_type": "code",
        "colab": {
          "base_uri": "https://localhost:8080/",
          "height": 295
        },
        "outputId": "e3a4daa3-078a-40a6-d582-edc23fa0bae6"
      },
      "source": [
        "# Visualisasi Akurasi\n",
        "plt.plot(history.history['acc'])\n",
        "plt.plot(history.history['val_acc'])\n",
        "plt.title(\"LeNet Model Accuracy\")\n",
        "plt.ylabel('Accuracy')\n",
        "plt.xlabel('Number of Epochs')\n",
        "plt.legend(['train', 'test'], loc='upper left')\n",
        "plt.show()"
      ],
      "execution_count": 28,
      "outputs": [
        {
          "output_type": "display_data",
          "data": {
            "image/png": "[encoded data removed]",
            "text/plain": [
              "<Figure size 432x288 with 1 Axes>"
            ]
          },
          "metadata": {
            "tags": []
          }
        }
      ]
    }
  ]
}